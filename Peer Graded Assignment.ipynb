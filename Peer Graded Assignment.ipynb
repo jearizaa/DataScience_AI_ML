{
    "cells": [
        {
            "cell_type": "markdown",
            "metadata": {
                "collapsed": true
            },
            "source": "# My Jupyter Notebook on IBM Watson Studio"
        },
        {
            "cell_type": "markdown",
            "metadata": {},
            "source": "**Julian Ariza**\n\nAI Engineer"
        },
        {
            "cell_type": "markdown",
            "metadata": {},
            "source": "*I am interested in data science because is an important application of AI and ML.*\n\n*I am interested in data science because information is the new gold.*"
        },
        {
            "cell_type": "markdown",
            "metadata": {},
            "source": "### Code below prints a phrase"
        },
        {
            "cell_type": "code",
            "execution_count": 2,
            "metadata": {},
            "outputs": [
                {
                    "name": "stdout",
                    "output_type": "stream",
                    "text": "Julian runs.\n"
                }
            ],
            "source": "subject = \"Julian\"\nverb = \"runs\"\nprint(subject + \" \" + verb + \".\")"
        },
        {
            "cell_type": "markdown",
            "metadata": {},
            "source": "*What\n\n*About\n\n*Doing\n\n*...\n\n1. Or \n\n2. Maybe \n\n3. Not \n\n| This | is | a | table |\n|------|----|---|-------|\n|*Do*|**It**|_by_|~~yourself~~|"
        },
        {
            "cell_type": "code",
            "execution_count": null,
            "metadata": {},
            "outputs": [],
            "source": ""
        }
    ],
    "metadata": {
        "kernelspec": {
            "display_name": "Python 3.6",
            "language": "python",
            "name": "python3"
        },
        "language_info": {
            "codemirror_mode": {
                "name": "ipython",
                "version": 3
            },
            "file_extension": ".py",
            "mimetype": "text/x-python",
            "name": "python",
            "nbconvert_exporter": "python",
            "pygments_lexer": "ipython3",
            "version": "3.6.9"
        }
    },
    "nbformat": 4,
    "nbformat_minor": 1
}